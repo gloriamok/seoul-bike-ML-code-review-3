{
 "cells": [
  {
   "cell_type": "markdown",
   "metadata": {
    "colab_type": "text",
    "id": "0Nj76qUe2lnA"
   },
   "source": [
    "## 2021년 11월 10일 스터디\n",
    "**Dacon 대회 - 따릉이 대여량 예측 경진대회**\n",
    "\n",
    "2021/11/10 목주영"
   ]
  },
  {
   "cell_type": "markdown",
   "metadata": {},
   "source": [
    "<span style=\"color:blue\">**인사이트, 아쉬운 사항 제기 및 보완**</span>\n",
    "\n",
    "<ol>\n",
    "    <li>다른 특성들 추가해서 학습해보기</li>\n",
    "    <li>다른 모델들로도 학습해보기</li>\n",
    "    <li>K폴드 교차검증기법(K-fold Cross Validation) 사용하기</li>\n",
    "</ol>"
   ]
  },
  {
   "cell_type": "code",
   "execution_count": 1,
   "metadata": {
    "colab": {
     "base_uri": "https://localhost:8080/",
     "height": 203
    },
    "id": "A-ghgo1WH9rZ",
    "outputId": "c7e96af1-5fd9-4c1b-b01e-7550595827f5"
   },
   "outputs": [
    {
     "data": {
      "text/html": [
       "<div>\n",
       "<style scoped>\n",
       "    .dataframe tbody tr th:only-of-type {\n",
       "        vertical-align: middle;\n",
       "    }\n",
       "\n",
       "    .dataframe tbody tr th {\n",
       "        vertical-align: top;\n",
       "    }\n",
       "\n",
       "    .dataframe thead th {\n",
       "        text-align: right;\n",
       "    }\n",
       "</style>\n",
       "<table border=\"1\" class=\"dataframe\">\n",
       "  <thead>\n",
       "    <tr style=\"text-align: right;\">\n",
       "      <th></th>\n",
       "      <th>date_time</th>\n",
       "      <th>wind_direction</th>\n",
       "      <th>sky_condition</th>\n",
       "      <th>precipitation_form</th>\n",
       "      <th>wind_speed</th>\n",
       "      <th>humidity</th>\n",
       "      <th>low_temp</th>\n",
       "      <th>high_temp</th>\n",
       "      <th>Precipitation_Probability</th>\n",
       "      <th>number_of_rentals</th>\n",
       "    </tr>\n",
       "  </thead>\n",
       "  <tbody>\n",
       "    <tr>\n",
       "      <th>0</th>\n",
       "      <td>2018-04-01</td>\n",
       "      <td>207.500</td>\n",
       "      <td>4.000</td>\n",
       "      <td>0.000</td>\n",
       "      <td>3.050</td>\n",
       "      <td>75.000</td>\n",
       "      <td>12.600</td>\n",
       "      <td>21.000</td>\n",
       "      <td>30.000</td>\n",
       "      <td>22994</td>\n",
       "    </tr>\n",
       "    <tr>\n",
       "      <th>1</th>\n",
       "      <td>2018-04-02</td>\n",
       "      <td>208.317</td>\n",
       "      <td>2.950</td>\n",
       "      <td>0.000</td>\n",
       "      <td>3.278</td>\n",
       "      <td>69.833</td>\n",
       "      <td>12.812</td>\n",
       "      <td>19.000</td>\n",
       "      <td>19.500</td>\n",
       "      <td>28139</td>\n",
       "    </tr>\n",
       "    <tr>\n",
       "      <th>2</th>\n",
       "      <td>2018-04-03</td>\n",
       "      <td>213.516</td>\n",
       "      <td>2.911</td>\n",
       "      <td>0.000</td>\n",
       "      <td>2.690</td>\n",
       "      <td>74.879</td>\n",
       "      <td>10.312</td>\n",
       "      <td>15.316</td>\n",
       "      <td>19.113</td>\n",
       "      <td>26817</td>\n",
       "    </tr>\n",
       "    <tr>\n",
       "      <th>3</th>\n",
       "      <td>2018-04-04</td>\n",
       "      <td>143.836</td>\n",
       "      <td>3.692</td>\n",
       "      <td>0.425</td>\n",
       "      <td>3.138</td>\n",
       "      <td>71.849</td>\n",
       "      <td>8.312</td>\n",
       "      <td>12.368</td>\n",
       "      <td>43.493</td>\n",
       "      <td>26034</td>\n",
       "    </tr>\n",
       "    <tr>\n",
       "      <th>4</th>\n",
       "      <td>2018-04-05</td>\n",
       "      <td>95.905</td>\n",
       "      <td>4.000</td>\n",
       "      <td>0.723</td>\n",
       "      <td>3.186</td>\n",
       "      <td>73.784</td>\n",
       "      <td>5.875</td>\n",
       "      <td>10.421</td>\n",
       "      <td>63.378</td>\n",
       "      <td>2833</td>\n",
       "    </tr>\n",
       "  </tbody>\n",
       "</table>\n",
       "</div>"
      ],
      "text/plain": [
       "    date_time  wind_direction  sky_condition  precipitation_form  wind_speed  \\\n",
       "0  2018-04-01         207.500          4.000               0.000       3.050   \n",
       "1  2018-04-02         208.317          2.950               0.000       3.278   \n",
       "2  2018-04-03         213.516          2.911               0.000       2.690   \n",
       "3  2018-04-04         143.836          3.692               0.425       3.138   \n",
       "4  2018-04-05          95.905          4.000               0.723       3.186   \n",
       "\n",
       "   humidity  low_temp  high_temp  Precipitation_Probability  number_of_rentals  \n",
       "0    75.000    12.600     21.000                     30.000              22994  \n",
       "1    69.833    12.812     19.000                     19.500              28139  \n",
       "2    74.879    10.312     15.316                     19.113              26817  \n",
       "3    71.849     8.312     12.368                     43.493              26034  \n",
       "4    73.784     5.875     10.421                     63.378               2833  "
      ]
     },
     "execution_count": 1,
     "metadata": {},
     "output_type": "execute_result"
    }
   ],
   "source": [
    "import pandas as pd\n",
    "import numpy as np\n",
    "\n",
    "import warnings\n",
    "warnings.filterwarnings(\"ignore\")\n",
    "\n",
    "train = pd.read_csv(\"dataset/train.csv\")\n",
    "test = pd.read_csv('dataset/test.csv')\n",
    "sample_submission = pd.read_csv('dataset/sample_submission.csv')\n",
    "train.head()"
   ]
  },
  {
   "cell_type": "code",
   "execution_count": 2,
   "metadata": {
    "id": "P_zzTrcuNWSU"
   },
   "outputs": [],
   "source": [
    "train['date_time'] = pd.to_datetime(train['date_time'])\n",
    "test['date_time'] = pd.to_datetime(test['date_time'])\n",
    "\n",
    "train['day']=pd.DatetimeIndex(train['date_time']).day\n",
    "test['day']=pd.DatetimeIndex(test['date_time']).day\n",
    "train['month']=pd.DatetimeIndex(train['date_time']).month\n",
    "test['month']=pd.DatetimeIndex(test['date_time']).month\n",
    "train['year']=pd.DatetimeIndex(train['date_time']).year\n",
    "test['year']=pd.DatetimeIndex(test['date_time']).year\n",
    "train['weekday']=pd.DatetimeIndex(train['date_time']).weekday\n",
    "test['weekday']=pd.DatetimeIndex(test['date_time']).weekday"
   ]
  },
  {
   "cell_type": "code",
   "execution_count": 3,
   "metadata": {
    "id": "5ThJK6wGU2le"
   },
   "outputs": [],
   "source": [
    "train['day'][train['month'] == 5] += 30\n",
    "train['day'][train['month'] == 6] += 61\n",
    "\n",
    "test['day'][test['month'] == 5] += 30\n",
    "test['day'][test['month'] == 6] += 61"
   ]
  },
  {
   "cell_type": "markdown",
   "metadata": {
    "id": "c-geJFO4h7Xh"
   },
   "source": [
    "<span style=\"color:blue\">변수들을 차례대로 제거하며 학습해보자, 다른 모델들로도 학습해보자</span>"
   ]
  },
  {
   "cell_type": "code",
   "execution_count": 4,
   "metadata": {},
   "outputs": [],
   "source": [
    "#1\n",
    "# 변수 'date_time', 'number_of_rentals' 제거"
   ]
  },
  {
   "cell_type": "code",
   "execution_count": 5,
   "metadata": {},
   "outputs": [],
   "source": [
    "train_label = train['number_of_rentals']\n",
    "train.drop(['date_time', 'number_of_rentals'], axis = 1, inplace= True)\n",
    "test.drop(['date_time'], axis = 1, inplace= True)"
   ]
  },
  {
   "cell_type": "code",
   "execution_count": 6,
   "metadata": {},
   "outputs": [
    {
     "name": "stdout",
     "output_type": "stream",
     "text": [
      "<class 'pandas.core.frame.DataFrame'>\n",
      "RangeIndex: 91 entries, 0 to 90\n",
      "Data columns (total 12 columns):\n",
      " #   Column                     Non-Null Count  Dtype  \n",
      "---  ------                     --------------  -----  \n",
      " 0   wind_direction             91 non-null     float64\n",
      " 1   sky_condition              91 non-null     float64\n",
      " 2   precipitation_form         91 non-null     float64\n",
      " 3   wind_speed                 91 non-null     float64\n",
      " 4   humidity                   91 non-null     float64\n",
      " 5   low_temp                   91 non-null     float64\n",
      " 6   high_temp                  91 non-null     float64\n",
      " 7   Precipitation_Probability  91 non-null     float64\n",
      " 8   day                        91 non-null     int64  \n",
      " 9   month                      91 non-null     int64  \n",
      " 10  year                       91 non-null     int64  \n",
      " 11  weekday                    91 non-null     int64  \n",
      "dtypes: float64(8), int64(4)\n",
      "memory usage: 8.7 KB\n"
     ]
    }
   ],
   "source": [
    "test.info()"
   ]
  },
  {
   "cell_type": "code",
   "execution_count": 7,
   "metadata": {
    "id": "PVwAqZLyWeVn"
   },
   "outputs": [],
   "source": [
    "from sklearn.ensemble import RandomForestRegressor\n",
    "\n",
    "rf = RandomForestRegressor(random_state = 0, n_estimators = 100)\n",
    "rf.fit(train,train_label)\n",
    "sample_submission['number_of_rentals'] = rf.predict(test)\n",
    "sample_submission.to_csv('bicycle_final_4.csv',encoding='UTF-8',index=False)"
   ]
  },
  {
   "cell_type": "code",
   "execution_count": 8,
   "metadata": {},
   "outputs": [
    {
     "data": {
      "text/plain": [
       "0.9812729193311751"
      ]
     },
     "execution_count": 8,
     "metadata": {},
     "output_type": "execute_result"
    }
   ],
   "source": [
    "rf.score(train,train_label)"
   ]
  },
  {
   "cell_type": "code",
   "execution_count": 9,
   "metadata": {},
   "outputs": [],
   "source": [
    "# Xgboost 사용\n",
    "from xgboost import XGBRegressor\n",
    "\n",
    "xgb_reg = XGBRegressor()\n",
    "xgb_reg.fit(train,train_label)\n",
    "sample_submission['number_of_rentals'] = xgb_reg.predict(test)\n",
    "sample_submission.to_csv('bicycle_xgb_reg_remove_only_date_time.csv',encoding='UTF-8',index=False)"
   ]
  },
  {
   "cell_type": "code",
   "execution_count": 10,
   "metadata": {},
   "outputs": [
    {
     "name": "stdout",
     "output_type": "stream",
     "text": [
      "0.9999999934154039\n",
      "update\n",
      "best score so far: 0.9999999934154039\n"
     ]
    }
   ],
   "source": [
    "print(xgb_reg.score(train,train_label))\n",
    "best_score = 0\n",
    "if (xgb_reg.score(train,train_label)>best_score):\n",
    "    best_score = xgb_reg.score(train,train_label)\n",
    "    print('update')\n",
    "\n",
    "print(\"best score so far:\",best_score)"
   ]
  },
  {
   "cell_type": "markdown",
   "metadata": {},
   "source": [
    "<span style=\"color:blue\">K폴드 교차검증기법(K-fold Cross Validation) 사용하기</span>"
   ]
  },
  {
   "cell_type": "code",
   "execution_count": 11,
   "metadata": {},
   "outputs": [
    {
     "name": "stdout",
     "output_type": "stream",
     "text": [
      "split 1: 0.7226653946242914\n",
      "split 2: 0.8860655890214741\n",
      "split 3: 0.7718870111907871\n",
      "split 4: 0.9097265863787438\n",
      "split 5: 0.8241755384700378\n",
      "split 6: 0.8224092617341587\n",
      "split 7: 0.9412296245676668\n",
      "split 8: 0.8918217265962385\n",
      "split 9: 0.8852958826497019\n",
      "split 10: 0.9068612293712447\n",
      "\n",
      "score: 0.8562137844604344\n"
     ]
    }
   ],
   "source": [
    "from sklearn.model_selection import KFold\n",
    "kfolds = KFold(n_splits=10, shuffle = True, random_state=10)\n",
    "scores = 0\n",
    "n = 1\n",
    "for idx_trn,idx_val in kfolds.split(train):\n",
    "    #print(\"TRAIN:\", idx_trn, \"TEST:\", idx_val)\n",
    "    train_X, valid_X = train.iloc[idx_trn, :], train.iloc[idx_val, :]\n",
    "    train_y, valid_y = train_label.iloc[idx_trn], train_label.iloc[idx_val]\n",
    "    \n",
    "    rf_reg = RandomForestRegressor(n_estimators = 200, max_depth = 8)\n",
    "    rf_reg.fit(train_X, train_y) #모델 학습\n",
    "    \n",
    "    print(\"split %d:\"%n, rf_reg.score(valid_X, valid_y))\n",
    "    n+=1\n",
    "    scores = scores + rf_reg.score(valid_X, valid_y)\n",
    "\n",
    "print()\n",
    "print(\"score:\",scores/10)"
   ]
  },
  {
   "cell_type": "code",
   "execution_count": 12,
   "metadata": {},
   "outputs": [],
   "source": [
    "#2\n",
    "# 변수 'weekday' 제거"
   ]
  },
  {
   "cell_type": "code",
   "execution_count": 13,
   "metadata": {},
   "outputs": [],
   "source": [
    "train.drop(['weekday'], axis = 1, inplace= True)\n",
    "test.drop(['weekday'], axis = 1, inplace= True)"
   ]
  },
  {
   "cell_type": "code",
   "execution_count": 14,
   "metadata": {},
   "outputs": [
    {
     "name": "stdout",
     "output_type": "stream",
     "text": [
      "<class 'pandas.core.frame.DataFrame'>\n",
      "RangeIndex: 91 entries, 0 to 90\n",
      "Data columns (total 11 columns):\n",
      " #   Column                     Non-Null Count  Dtype  \n",
      "---  ------                     --------------  -----  \n",
      " 0   wind_direction             91 non-null     float64\n",
      " 1   sky_condition              91 non-null     float64\n",
      " 2   precipitation_form         91 non-null     float64\n",
      " 3   wind_speed                 91 non-null     float64\n",
      " 4   humidity                   91 non-null     float64\n",
      " 5   low_temp                   91 non-null     float64\n",
      " 6   high_temp                  91 non-null     float64\n",
      " 7   Precipitation_Probability  91 non-null     float64\n",
      " 8   day                        91 non-null     int64  \n",
      " 9   month                      91 non-null     int64  \n",
      " 10  year                       91 non-null     int64  \n",
      "dtypes: float64(8), int64(3)\n",
      "memory usage: 7.9 KB\n"
     ]
    }
   ],
   "source": [
    "test.info()"
   ]
  },
  {
   "cell_type": "code",
   "execution_count": 15,
   "metadata": {
    "id": "PVwAqZLyWeVn"
   },
   "outputs": [],
   "source": [
    "from sklearn.ensemble import RandomForestRegressor\n",
    "\n",
    "rf = RandomForestRegressor(random_state = 0, n_estimators = 100)\n",
    "rf.fit(train,train_label)\n",
    "sample_submission['number_of_rentals'] = rf.predict(test)\n",
    "sample_submission.to_csv('bicycle_final_4.csv',encoding='UTF-8',index=False)"
   ]
  },
  {
   "cell_type": "code",
   "execution_count": 16,
   "metadata": {},
   "outputs": [
    {
     "data": {
      "text/plain": [
       "0.9809062130921339"
      ]
     },
     "execution_count": 16,
     "metadata": {},
     "output_type": "execute_result"
    }
   ],
   "source": [
    "rf.score(train,train_label)"
   ]
  },
  {
   "cell_type": "code",
   "execution_count": 17,
   "metadata": {},
   "outputs": [],
   "source": [
    "from xgboost import XGBRegressor\n",
    "\n",
    "xgb_reg = XGBRegressor()\n",
    "xgb_reg.fit(train,train_label)\n",
    "sample_submission['number_of_rentals'] = xgb_reg.predict(test)\n",
    "sample_submission.to_csv('bicycle_xgb_reg.csv',encoding='UTF-8',index=False)"
   ]
  },
  {
   "cell_type": "code",
   "execution_count": 18,
   "metadata": {
    "scrolled": true
   },
   "outputs": [
    {
     "name": "stdout",
     "output_type": "stream",
     "text": [
      "0.9999999435594599\n",
      "best score so far: 0.9999999934154039\n"
     ]
    }
   ],
   "source": [
    "print(xgb_reg.score(train,train_label))\n",
    "\n",
    "if (xgb_reg.score(train,train_label)>best_score):\n",
    "    best_score = xgb_reg.score(train,train_label)\n",
    "    print('update')\n",
    "\n",
    "print(\"best score so far:\",best_score)"
   ]
  },
  {
   "cell_type": "code",
   "execution_count": 19,
   "metadata": {},
   "outputs": [
    {
     "name": "stdout",
     "output_type": "stream",
     "text": [
      "split 1: 0.7191935638181979\n",
      "split 2: 0.8945178426751637\n",
      "split 3: 0.7612699529724044\n",
      "split 4: 0.9084206706544218\n",
      "split 5: 0.8250784681493565\n",
      "split 6: 0.8267036777613708\n",
      "split 7: 0.9426448877425403\n",
      "split 8: 0.8864140596100025\n",
      "split 9: 0.8709626809943163\n",
      "split 10: 0.9071843677740455\n",
      "\n",
      "score: 0.8542390172151819\n"
     ]
    }
   ],
   "source": [
    "from sklearn.model_selection import KFold\n",
    "kfolds = KFold(n_splits=10, shuffle = True, random_state=10)\n",
    "scores = 0\n",
    "n = 1\n",
    "for idx_trn,idx_val in kfolds.split(train):\n",
    "    #print(\"TRAIN:\", idx_trn, \"TEST:\", idx_val)\n",
    "    train_X, valid_X = train.iloc[idx_trn, :], train.iloc[idx_val, :]\n",
    "    train_y, valid_y = train_label.iloc[idx_trn], train_label.iloc[idx_val]\n",
    "    \n",
    "    rf_reg = RandomForestRegressor(n_estimators = 200, max_depth = 8)\n",
    "    rf_reg.fit(train_X, train_y) #모델 학습\n",
    "    \n",
    "    print(\"split %d:\"%n, rf_reg.score(valid_X, valid_y))\n",
    "    n+=1\n",
    "    scores = scores + rf_reg.score(valid_X, valid_y)\n",
    "\n",
    "print()\n",
    "print(\"score:\",scores/10)"
   ]
  },
  {
   "cell_type": "code",
   "execution_count": 20,
   "metadata": {},
   "outputs": [],
   "source": [
    "#3\n",
    "# 변수 'wind_direction', 'Precipitation_Probability', 'month' 제거"
   ]
  },
  {
   "cell_type": "code",
   "execution_count": 21,
   "metadata": {
    "id": "PUza2Bt4WlMv"
   },
   "outputs": [],
   "source": [
    "# 원본\n",
    "#train_label = train['number_of_rentals']\n",
    "#train.drop(['date_time','wind_direction', 'Precipitation_Probability', 'month', 'number_of_rentals'], axis = 1, inplace= True)\n",
    "#test.drop(['date_time','wind_direction', 'Precipitation_Probability', 'month'], axis = 1, inplace= True)\n",
    "\n",
    "train.drop(['wind_direction', 'Precipitation_Probability', 'month'], axis = 1, inplace= True)\n",
    "test.drop(['wind_direction', 'Precipitation_Probability', 'month'], axis = 1, inplace= True)"
   ]
  },
  {
   "cell_type": "code",
   "execution_count": 22,
   "metadata": {},
   "outputs": [
    {
     "name": "stdout",
     "output_type": "stream",
     "text": [
      "<class 'pandas.core.frame.DataFrame'>\n",
      "RangeIndex: 91 entries, 0 to 90\n",
      "Data columns (total 8 columns):\n",
      " #   Column              Non-Null Count  Dtype  \n",
      "---  ------              --------------  -----  \n",
      " 0   sky_condition       91 non-null     float64\n",
      " 1   precipitation_form  91 non-null     float64\n",
      " 2   wind_speed          91 non-null     float64\n",
      " 3   humidity            91 non-null     float64\n",
      " 4   low_temp            91 non-null     float64\n",
      " 5   high_temp           91 non-null     float64\n",
      " 6   day                 91 non-null     int64  \n",
      " 7   year                91 non-null     int64  \n",
      "dtypes: float64(6), int64(2)\n",
      "memory usage: 5.8 KB\n"
     ]
    }
   ],
   "source": [
    "test.info()"
   ]
  },
  {
   "cell_type": "code",
   "execution_count": 23,
   "metadata": {
    "id": "PVwAqZLyWeVn"
   },
   "outputs": [],
   "source": [
    "from sklearn.ensemble import RandomForestRegressor\n",
    "\n",
    "rf = RandomForestRegressor(random_state = 0, n_estimators = 100)\n",
    "rf.fit(train,train_label)\n",
    "sample_submission['number_of_rentals'] = rf.predict(test)\n",
    "sample_submission.to_csv('bicycle_final_4.csv',encoding='UTF-8',index=False)"
   ]
  },
  {
   "cell_type": "code",
   "execution_count": 24,
   "metadata": {},
   "outputs": [
    {
     "data": {
      "text/plain": [
       "0.9793031215137236"
      ]
     },
     "execution_count": 24,
     "metadata": {},
     "output_type": "execute_result"
    }
   ],
   "source": [
    "rf.score(train,train_label)"
   ]
  },
  {
   "cell_type": "code",
   "execution_count": 25,
   "metadata": {},
   "outputs": [],
   "source": [
    "from xgboost import XGBRegressor\n",
    "\n",
    "xgb_reg = XGBRegressor()\n",
    "xgb_reg.fit(train,train_label)\n",
    "sample_submission['number_of_rentals'] = xgb_reg.predict(test)\n",
    "sample_submission.to_csv('bicycle_xgb_reg.csv',encoding='UTF-8',index=False)"
   ]
  },
  {
   "cell_type": "code",
   "execution_count": 26,
   "metadata": {},
   "outputs": [
    {
     "name": "stdout",
     "output_type": "stream",
     "text": [
      "0.9999998530715722\n",
      "best score so far: 0.9999999934154039\n"
     ]
    }
   ],
   "source": [
    "print(xgb_reg.score(train,train_label))\n",
    "\n",
    "if (xgb_reg.score(train,train_label)>best_score):\n",
    "    best_score = xgb_reg.score(train,train_label)\n",
    "    print('update')\n",
    "\n",
    "print(\"best score so far:\",best_score)"
   ]
  },
  {
   "cell_type": "code",
   "execution_count": 27,
   "metadata": {},
   "outputs": [
    {
     "name": "stdout",
     "output_type": "stream",
     "text": [
      "split 1: 0.6689771484192915\n",
      "split 2: 0.8981544732336267\n",
      "split 3: 0.7908571578490365\n",
      "split 4: 0.9313489766203605\n",
      "split 5: 0.808571407124012\n",
      "split 6: 0.8090654224429555\n",
      "split 7: 0.9228438799366824\n",
      "split 8: 0.8756738037259599\n",
      "split 9: 0.869156466240964\n",
      "split 10: 0.9126337895438013\n",
      "\n",
      "score: 0.848728252513669\n"
     ]
    }
   ],
   "source": [
    "from sklearn.model_selection import KFold\n",
    "kfolds = KFold(n_splits=10, shuffle = True, random_state=10)\n",
    "scores = 0\n",
    "n = 1\n",
    "for idx_trn,idx_val in kfolds.split(train):\n",
    "    #print(\"TRAIN:\", idx_trn, \"TEST:\", idx_val)\n",
    "    train_X, valid_X = train.iloc[idx_trn, :], train.iloc[idx_val, :]\n",
    "    train_y, valid_y = train_label.iloc[idx_trn], train_label.iloc[idx_val]\n",
    "    \n",
    "    rf_reg = RandomForestRegressor(n_estimators = 200, max_depth = 8)\n",
    "    rf_reg.fit(train_X, train_y) #모델 학습\n",
    "    \n",
    "    print(\"split %d:\"%n, rf_reg.score(valid_X, valid_y))\n",
    "    n+=1\n",
    "    scores = scores + rf_reg.score(valid_X, valid_y)\n",
    "\n",
    "print()\n",
    "print(\"score:\",scores/10)"
   ]
  },
  {
   "cell_type": "code",
   "execution_count": 28,
   "metadata": {},
   "outputs": [],
   "source": [
    "#import numpy as np\n",
    "\n",
    "#def NMAE(true, pred):\n",
    "#    score = np.mean(np.abs(true-pred) / true)\n",
    "#    return score"
   ]
  },
  {
   "cell_type": "code",
   "execution_count": null,
   "metadata": {},
   "outputs": [],
   "source": []
  }
 ],
 "metadata": {
  "colab": {
   "collapsed_sections": [],
   "name": "kagglessu5_plus.ipynb",
   "provenance": []
  },
  "kernelspec": {
   "display_name": "Python 3",
   "language": "python",
   "name": "python3"
  },
  "language_info": {
   "codemirror_mode": {
    "name": "ipython",
    "version": 3
   },
   "file_extension": ".py",
   "mimetype": "text/x-python",
   "name": "python",
   "nbconvert_exporter": "python",
   "pygments_lexer": "ipython3",
   "version": "3.8.5"
  }
 },
 "nbformat": 4,
 "nbformat_minor": 1
}
